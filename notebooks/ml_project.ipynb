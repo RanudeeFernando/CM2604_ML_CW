{
  "nbformat": 4,
  "nbformat_minor": 0,
  "metadata": {
    "colab": {
      "provenance": [],
      "authorship_tag": "ABX9TyMG6acC6M35tuHlap1xfkHq",
      "include_colab_link": true
    },
    "kernelspec": {
      "name": "python3",
      "display_name": "Python 3"
    },
    "language_info": {
      "name": "python"
    }
  },
  "cells": [
    {
      "cell_type": "markdown",
      "metadata": {
        "id": "view-in-github",
        "colab_type": "text"
      },
      "source": [
        "<a href=\"https://colab.research.google.com/github/RanudeeFernando/CM2604_ML_CW/blob/main/notebooks/ml_project.ipynb\" target=\"_parent\"><img src=\"https://colab.research.google.com/assets/colab-badge.svg\" alt=\"Open In Colab\"/></a>"
      ]
    },
    {
      "cell_type": "markdown",
      "source": [
        "# Predicting Client Subscription to Term Deposits Using Bank Marketing Data"
      ],
      "metadata": {
        "id": "3ebLPzvxPg_e"
      }
    },
    {
      "cell_type": "markdown",
      "source": [
        "**Description of Dataset**\n",
        "\n",
        "The dataset used in this study was taken from the [UCI Machine Learning Repository](https://archive.ics.uci.edu/dataset/222/bank%2Bmarketing) and it contains information related to a direct marketing campaign conducted by a Portuguese banking institution.\n",
        "\n",
        "The goal of this study is to predict whether a client will subscribe to a long-term deposit (target variable: y).\n",
        "\n",
        "\n"
      ],
      "metadata": {
        "id": "kd-bqiTtPlU_"
      }
    },
    {
      "cell_type": "markdown",
      "source": [
        "## Explore Dataset"
      ],
      "metadata": {
        "id": "xcMYtnmqPorY"
      }
    },
    {
      "cell_type": "code",
      "source": [
        "# Mount google drive\n",
        "from google.colab import drive\n",
        "drive.mount('/content/drive', force_remount=True)"
      ],
      "metadata": {
        "colab": {
          "base_uri": "https://localhost:8080/"
        },
        "id": "CjkLxPpbPxFm",
        "outputId": "c6f04b8e-96b3-4a55-fd30-f1c80bdaa5e1"
      },
      "execution_count": 25,
      "outputs": [
        {
          "output_type": "stream",
          "name": "stdout",
          "text": [
            "Mounted at /content/drive\n"
          ]
        }
      ]
    },
    {
      "cell_type": "code",
      "source": [
        "import pandas as pd"
      ],
      "metadata": {
        "id": "i3L8pAUPP0Cu"
      },
      "execution_count": 26,
      "outputs": []
    },
    {
      "cell_type": "code",
      "source": [
        "# Define file path to dataset\n",
        "file_path = \"/content/drive/MyDrive/CM2604 Machine Learning/CW/bank-full.csv\"\n",
        "\n",
        "# Load the dataset\n",
        "df = pd.read_csv(file_path, sep=';')"
      ],
      "metadata": {
        "id": "QgfmmY44QDzc"
      },
      "execution_count": 27,
      "outputs": []
    },
    {
      "cell_type": "code",
      "source": [
        "# View first 5 rows\n",
        "print(\"First 5 rows of the dataset:\")\n",
        "print(df.head())"
      ],
      "metadata": {
        "colab": {
          "base_uri": "https://localhost:8080/"
        },
        "id": "kBLG_SDmP3dn",
        "outputId": "e0e6c573-7d30-4168-ae70-3caadee44ac5"
      },
      "execution_count": 28,
      "outputs": [
        {
          "output_type": "stream",
          "name": "stdout",
          "text": [
            "First 5 rows of the dataset:\n",
            "   age           job  marital  education default  balance housing loan  \\\n",
            "0   58    management  married   tertiary      no     2143     yes   no   \n",
            "1   44    technician   single  secondary      no       29     yes   no   \n",
            "2   33  entrepreneur  married  secondary      no        2     yes  yes   \n",
            "3   47   blue-collar  married    unknown      no     1506     yes   no   \n",
            "4   33       unknown   single    unknown      no        1      no   no   \n",
            "\n",
            "   contact  day month  duration  campaign  pdays  previous poutcome   y  \n",
            "0  unknown    5   may       261         1     -1         0  unknown  no  \n",
            "1  unknown    5   may       151         1     -1         0  unknown  no  \n",
            "2  unknown    5   may        76         1     -1         0  unknown  no  \n",
            "3  unknown    5   may        92         1     -1         0  unknown  no  \n",
            "4  unknown    5   may       198         1     -1         0  unknown  no  \n"
          ]
        }
      ]
    },
    {
      "cell_type": "code",
      "source": [
        "# Check shape of dataset\n",
        "print(\"Shape of dataset:\")\n",
        "print(f\"Number of Rows: {df.shape[0]}\")\n",
        "print(f\"Number of Columns: {df.shape[1]}\")"
      ],
      "metadata": {
        "colab": {
          "base_uri": "https://localhost:8080/"
        },
        "id": "HewghB27QVhg",
        "outputId": "f5e54fc4-ed4d-4c3f-9a27-907e67a58870"
      },
      "execution_count": 29,
      "outputs": [
        {
          "output_type": "stream",
          "name": "stdout",
          "text": [
            "Shape of dataset:\n",
            "Number of Rows: 45211\n",
            "Number of Columns: 17\n"
          ]
        }
      ]
    },
    {
      "cell_type": "code",
      "source": [
        "# Display information about dataset\n",
        "print(\"Dataset information:\")\n",
        "df.info()"
      ],
      "metadata": {
        "colab": {
          "base_uri": "https://localhost:8080/"
        },
        "id": "8niklQlCQZ2R",
        "outputId": "1b3b942e-a4a2-492f-f138-2040d249ec95"
      },
      "execution_count": 30,
      "outputs": [
        {
          "output_type": "stream",
          "name": "stdout",
          "text": [
            "Dataset information:\n",
            "<class 'pandas.core.frame.DataFrame'>\n",
            "RangeIndex: 45211 entries, 0 to 45210\n",
            "Data columns (total 17 columns):\n",
            " #   Column     Non-Null Count  Dtype \n",
            "---  ------     --------------  ----- \n",
            " 0   age        45211 non-null  int64 \n",
            " 1   job        45211 non-null  object\n",
            " 2   marital    45211 non-null  object\n",
            " 3   education  45211 non-null  object\n",
            " 4   default    45211 non-null  object\n",
            " 5   balance    45211 non-null  int64 \n",
            " 6   housing    45211 non-null  object\n",
            " 7   loan       45211 non-null  object\n",
            " 8   contact    45211 non-null  object\n",
            " 9   day        45211 non-null  int64 \n",
            " 10  month      45211 non-null  object\n",
            " 11  duration   45211 non-null  int64 \n",
            " 12  campaign   45211 non-null  int64 \n",
            " 13  pdays      45211 non-null  int64 \n",
            " 14  previous   45211 non-null  int64 \n",
            " 15  poutcome   45211 non-null  object\n",
            " 16  y          45211 non-null  object\n",
            "dtypes: int64(7), object(10)\n",
            "memory usage: 5.9+ MB\n"
          ]
        }
      ]
    },
    {
      "cell_type": "code",
      "source": [
        "# Display summary statistics for numerical columns\n",
        "print(\"Statistical summary of numerical columns:\")\n",
        "print(df.describe())"
      ],
      "metadata": {
        "colab": {
          "base_uri": "https://localhost:8080/"
        },
        "id": "aIJGWFC7Qire",
        "outputId": "0ec9bc42-cc4c-4387-dc3b-35621378c612"
      },
      "execution_count": 31,
      "outputs": [
        {
          "output_type": "stream",
          "name": "stdout",
          "text": [
            "Statistical summary of numerical columns:\n",
            "                age        balance           day      duration      campaign  \\\n",
            "count  45211.000000   45211.000000  45211.000000  45211.000000  45211.000000   \n",
            "mean      40.936210    1362.272058     15.806419    258.163080      2.763841   \n",
            "std       10.618762    3044.765829      8.322476    257.527812      3.098021   \n",
            "min       18.000000   -8019.000000      1.000000      0.000000      1.000000   \n",
            "25%       33.000000      72.000000      8.000000    103.000000      1.000000   \n",
            "50%       39.000000     448.000000     16.000000    180.000000      2.000000   \n",
            "75%       48.000000    1428.000000     21.000000    319.000000      3.000000   \n",
            "max       95.000000  102127.000000     31.000000   4918.000000     63.000000   \n",
            "\n",
            "              pdays      previous  \n",
            "count  45211.000000  45211.000000  \n",
            "mean      40.197828      0.580323  \n",
            "std      100.128746      2.303441  \n",
            "min       -1.000000      0.000000  \n",
            "25%       -1.000000      0.000000  \n",
            "50%       -1.000000      0.000000  \n",
            "75%       -1.000000      0.000000  \n",
            "max      871.000000    275.000000  \n"
          ]
        }
      ]
    },
    {
      "cell_type": "code",
      "source": [
        "# Identify categorical columns\n",
        "categorical_columns = df.select_dtypes(include=['object']).columns\n",
        "\n",
        "# Strip spaces from all categorical columns\n",
        "for col in categorical_columns:\n",
        "    df[col] = df[col].str.strip()"
      ],
      "metadata": {
        "id": "1QHejI6-Q_yw"
      },
      "execution_count": 32,
      "outputs": []
    },
    {
      "cell_type": "code",
      "source": [
        "# Display summary of unique values for categorical columns\n",
        "print(\"Unique values in categorical columns:\\n\")\n",
        "for column in categorical_columns:\n",
        "  print(f\"Column: {column}\")\n",
        "  print(df[column].unique())\n",
        "  print()"
      ],
      "metadata": {
        "colab": {
          "base_uri": "https://localhost:8080/"
        },
        "id": "ByGJGhYvTCrY",
        "outputId": "6621c185-02da-4ced-dae9-087a08fc4b5c"
      },
      "execution_count": 33,
      "outputs": [
        {
          "output_type": "stream",
          "name": "stdout",
          "text": [
            "Unique values in categorical columns:\n",
            "\n",
            "Column: job\n",
            "['management' 'technician' 'entrepreneur' 'blue-collar' 'unknown'\n",
            " 'retired' 'admin.' 'services' 'self-employed' 'unemployed' 'housemaid'\n",
            " 'student']\n",
            "\n",
            "Column: marital\n",
            "['married' 'single' 'divorced']\n",
            "\n",
            "Column: education\n",
            "['tertiary' 'secondary' 'unknown' 'primary']\n",
            "\n",
            "Column: default\n",
            "['no' 'yes']\n",
            "\n",
            "Column: housing\n",
            "['yes' 'no']\n",
            "\n",
            "Column: loan\n",
            "['no' 'yes']\n",
            "\n",
            "Column: contact\n",
            "['unknown' 'cellular' 'telephone']\n",
            "\n",
            "Column: month\n",
            "['may' 'jun' 'jul' 'aug' 'oct' 'nov' 'dec' 'jan' 'feb' 'mar' 'apr' 'sep']\n",
            "\n",
            "Column: poutcome\n",
            "['unknown' 'failure' 'other' 'success']\n",
            "\n",
            "Column: y\n",
            "['no' 'yes']\n",
            "\n"
          ]
        }
      ]
    },
    {
      "cell_type": "code",
      "source": [
        "# Define target variable\n",
        "target_variable = 'y'\n",
        "\n",
        "# Define numerical and categorical features\n",
        "numerical_features = df.select_dtypes(include=['int64']).columns.tolist()\n",
        "\n",
        "categorical_features = df.select_dtypes(include=['object']).columns.tolist()\n",
        "\n",
        "# Exclude target variable from categorical features\n",
        "if target_variable in categorical_features:\n",
        "  categorical_features.remove(target_variable)\n",
        "\n",
        "# Display the results\n",
        "print(\"Numerical Features:\", numerical_features)\n",
        "print(\"Categorical Features:\", categorical_features)\n",
        "print(\"Target Variable:\", target_variable)"
      ],
      "metadata": {
        "colab": {
          "base_uri": "https://localhost:8080/"
        },
        "id": "Itm0H5lzTDz9",
        "outputId": "5a96764a-fe7d-4794-cdb0-0ee2d2651863"
      },
      "execution_count": 34,
      "outputs": [
        {
          "output_type": "stream",
          "name": "stdout",
          "text": [
            "Numerical Features: ['age', 'balance', 'day', 'duration', 'campaign', 'pdays', 'previous']\n",
            "Categorical Features: ['job', 'marital', 'education', 'default', 'housing', 'loan', 'contact', 'month', 'poutcome']\n",
            "Target Variable: y\n"
          ]
        }
      ]
    },
    {
      "cell_type": "markdown",
      "source": [
        "## Exploratory Data Analysis"
      ],
      "metadata": {
        "id": "2vFygv2vUBr3"
      }
    },
    {
      "cell_type": "markdown",
      "source": [
        "1. **Handle Missing Values**"
      ],
      "metadata": {
        "id": "zFC2gL_7UMGg"
      }
    },
    {
      "cell_type": "code",
      "source": [
        "# Check for missing values in the entire dataset\n",
        "missing_values = df.isnull().sum()\n",
        "print(\"Missing Values per Column:\")\n",
        "print(missing_values)\n",
        "print(\"\\n\")\n",
        "\n",
        "# Check if there are any missing values\n",
        "if missing_values.sum() == 0:\n",
        "  print(\"No missing values found.\")\n",
        "else:\n",
        "  print(\"Missing values have been found and require handling.\")\n"
      ],
      "metadata": {
        "colab": {
          "base_uri": "https://localhost:8080/"
        },
        "id": "r3oMO2r9TlQu",
        "outputId": "5f300c7e-9f4f-4d4d-8c2a-964e8e14dab3"
      },
      "execution_count": 35,
      "outputs": [
        {
          "output_type": "stream",
          "name": "stdout",
          "text": [
            "Missing Values per Column:\n",
            "age          0\n",
            "job          0\n",
            "marital      0\n",
            "education    0\n",
            "default      0\n",
            "balance      0\n",
            "housing      0\n",
            "loan         0\n",
            "contact      0\n",
            "day          0\n",
            "month        0\n",
            "duration     0\n",
            "campaign     0\n",
            "pdays        0\n",
            "previous     0\n",
            "poutcome     0\n",
            "y            0\n",
            "dtype: int64\n",
            "\n",
            "\n",
            "No missing values found.\n"
          ]
        }
      ]
    },
    {
      "cell_type": "code",
      "source": [],
      "metadata": {
        "id": "RbRO5gfZUj6j"
      },
      "execution_count": null,
      "outputs": []
    }
  ]
}